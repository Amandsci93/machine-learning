{
  "cells": [
    {
      "cell_type": "markdown",
      "metadata": {
        "id": "view-in-github",
        "colab_type": "text"
      },
      "source": [
        "<a href=\"https://colab.research.google.com/github/Amandsci93/machine-learning/blob/main/vggcode/vgg19.ipynb\" target=\"_parent\"><img src=\"https://colab.research.google.com/assets/colab-badge.svg\" alt=\"Open In Colab\"/></a>"
      ]
    },
    {
      "cell_type": "code",
      "execution_count": null,
      "metadata": {
        "colab": {
          "base_uri": "https://localhost:8080/"
        },
        "id": "DHrBbw9R77gu",
        "outputId": "41d791e5-a432-4472-e395-ef56db1e5da7"
      },
      "outputs": [
        {
          "name": "stdout",
          "output_type": "stream",
          "text": [
            "Drive already mounted at /content/drive; to attempt to forcibly remount, call drive.mount(\"/content/drive\", force_remount=True).\n"
          ]
        }
      ],
      "source": [
        "from google.colab import drive\n",
        "drive.mount('/content/drive')\n"
      ]
    },
    {
      "cell_type": "code",
      "execution_count": null,
      "metadata": {
        "id": "9RO9r-lsOdDe"
      },
      "outputs": [],
      "source": [
        "from os import listdir\n",
        "import numpy as np\n",
        "from PIL import Image\n",
        "import tensorflow as tf\n",
        "from tensorflow.keras.applications.vgg19 import VGG19\n",
        "from sklearn.model_selection import train_test_split\n",
        "from tensorflow.keras.models import load_model\n"
      ]
    },
    {
      "cell_type": "code",
      "execution_count": null,
      "metadata": {
        "id": "_g0FsvaTOmtj"
      },
      "outputs": [],
      "source": [
        "filepath = '/content/drive/MyDrive/ml_dataset/'\n",
        "img_list = []"
      ]
    },
    {
      "cell_type": "code",
      "execution_count": null,
      "metadata": {
        "colab": {
          "base_uri": "https://localhost:8080/"
        },
        "id": "pMl14qG6XeSc",
        "outputId": "b04b3c02-246e-4a83-b2bf-ba25b8ff3828"
      },
      "outputs": [
        {
          "name": "stdout",
          "output_type": "stream",
          "text": [
            "car (100).jpg\n",
            "car (101).jpg\n",
            "car (102).jpg\n",
            "car (103).jpg\n",
            "car (104).jpg\n",
            "car (105).jpg\n",
            "bus 100.jpg\n",
            "bus 104.jpg\n",
            "bus 101.jpg\n",
            "bus 102.jpg\n",
            "bus 103.jpg\n",
            "bus 105.jpg\n",
            "bike (100).jpg\n",
            "bike (102).jpg\n",
            "bike (103).jpg\n",
            "bike (104).jpg\n",
            "bike (106).jpg\n",
            "bike (10).jpg\n",
            "bike (110).jpg\n",
            "bike (113).jpg\n",
            "bike (115).jpg\n",
            "bike (116).jpg\n",
            "car (119).jpg\n",
            "car (120).jpg\n",
            "car (121).jpg\n",
            "car (123).jpg\n",
            "bus_120.jpg\n",
            "bus 121.jpg\n",
            "bus 122.jpg\n",
            "bus 123.jpg\n"
          ]
        }
      ],
      "source": [
        "for file in listdir(filepath):\n",
        "  img = Image.open(filepath+ file)\n",
        "  img = img.resize((224, 224))\n",
        "  img= np.array(img) / 255.\n",
        "  if img.shape == (224,224,3):\n",
        "            img_list.append(img)\n",
        "  print(file)"
      ]
    },
    {
      "cell_type": "code",
      "execution_count": null,
      "metadata": {
        "colab": {
          "base_uri": "https://localhost:8080/"
        },
        "id": "8hqZSuuDaPlG",
        "outputId": "c5559187-d0ff-4a84-b5b0-2c1c53458735"
      },
      "outputs": [
        {
          "name": "stdout",
          "output_type": "stream",
          "text": [
            "72 72 9 9 9 9\n"
          ]
        }
      ],
      "source": [
        "X= img_list\n",
        "y = [0] * len(img_list)\n",
        "X_train, X_test, y_train, y_test = train_test_split(X, y, test_size=0.1, shuffle=True)\n",
        "X_train, X_val, y_train, y_val = train_test_split(X_train, y_train, test_size=0.1, shuffle=True)\n",
        "print(len(X_train), len(y_train), len(X_val), len(y_val), len(X_val), len(y_val))"
      ]
    },
    {
      "cell_type": "code",
      "execution_count": null,
      "metadata": {
        "id": "_VHfgsXvcPXk"
      },
      "outputs": [],
      "source": [
        "X_train = np.array(X_train, dtype=np.uint16)\n",
        "y_train = np.array(y_train, dtype=np.uint16)"
      ]
    },
    {
      "cell_type": "code",
      "execution_count": null,
      "metadata": {
        "id": "u2m_GqoicUOa"
      },
      "outputs": [],
      "source": [
        "X_val = np.array(X_val, dtype=np.uint16)\n",
        "y_val = np.array(y_val, dtype=np.uint16)"
      ]
    },
    {
      "cell_type": "code",
      "execution_count": null,
      "metadata": {
        "id": "UZYo4PzicaT0"
      },
      "outputs": [],
      "source": [
        "X_test = np.array(X_test, dtype=np.uint16)\n",
        "y_test = np.array(y_test, dtype=np.uint16)"
      ]
    },
    {
      "cell_type": "code",
      "execution_count": null,
      "metadata": {
        "colab": {
          "base_uri": "https://localhost:8080/"
        },
        "id": "_FPWtfLcchLb",
        "outputId": "77e00dc5-f4f1-4933-d075-15c6295869b5"
      },
      "outputs": [
        {
          "name": "stdout",
          "output_type": "stream",
          "text": [
            "Test : (72, 224, 224, 3) (72,)\n",
            "Val : (9, 224, 224, 3) (9,)\n",
            "Test : (9, 224, 224, 3) (9,)\n"
          ]
        }
      ],
      "source": [
        "X_train = X_train.reshape(-1, 224, 224, 3)\n",
        "X_val = X_val.reshape(-1, 224, 224, 3)\n",
        "X_test = X_test.reshape(-1, 224, 224, 3)\n",
        "print('Test :', X_train.shape, y_train.shape)\n",
        "print('Val :', X_val.shape, y_val.shape)\n",
        "print('Test :', X_test.shape, y_test.shape)"
      ]
    },
    {
      "cell_type": "code",
      "execution_count": null,
      "metadata": {
        "colab": {
          "base_uri": "https://localhost:8080/"
        },
        "id": "mWWXn1Qvcio2",
        "outputId": "9239375c-50af-42f5-9fbd-da1b8d816e12"
      },
      "outputs": [
        {
          "name": "stdout",
          "output_type": "stream",
          "text": [
            "Model: \"model_2\"\n",
            "_________________________________________________________________\n",
            " Layer (type)                Output Shape              Param #   \n",
            "=================================================================\n",
            " input_3 (InputLayer)        [(None, 224, 224, 3)]     0         \n",
            "                                                                 \n",
            " block1_conv1 (Conv2D)       (None, 224, 224, 64)      1792      \n",
            "                                                                 \n",
            " block1_conv2 (Conv2D)       (None, 224, 224, 64)      36928     \n",
            "                                                                 \n",
            " block1_pool (MaxPooling2D)  (None, 112, 112, 64)      0         \n",
            "                                                                 \n",
            " block2_conv1 (Conv2D)       (None, 112, 112, 128)     73856     \n",
            "                                                                 \n",
            " block2_conv2 (Conv2D)       (None, 112, 112, 128)     147584    \n",
            "                                                                 \n",
            " block2_pool (MaxPooling2D)  (None, 56, 56, 128)       0         \n",
            "                                                                 \n",
            " block3_conv1 (Conv2D)       (None, 56, 56, 256)       295168    \n",
            "                                                                 \n",
            " block3_conv2 (Conv2D)       (None, 56, 56, 256)       590080    \n",
            "                                                                 \n",
            " block3_conv3 (Conv2D)       (None, 56, 56, 256)       590080    \n",
            "                                                                 \n",
            " block3_conv4 (Conv2D)       (None, 56, 56, 256)       590080    \n",
            "                                                                 \n",
            " block3_pool (MaxPooling2D)  (None, 28, 28, 256)       0         \n",
            "                                                                 \n",
            " block4_conv1 (Conv2D)       (None, 28, 28, 512)       1180160   \n",
            "                                                                 \n",
            " block4_conv2 (Conv2D)       (None, 28, 28, 512)       2359808   \n",
            "                                                                 \n",
            " block4_conv3 (Conv2D)       (None, 28, 28, 512)       2359808   \n",
            "                                                                 \n",
            " block4_conv4 (Conv2D)       (None, 28, 28, 512)       2359808   \n",
            "                                                                 \n",
            " block4_pool (MaxPooling2D)  (None, 14, 14, 512)       0         \n",
            "                                                                 \n",
            " block5_conv1 (Conv2D)       (None, 14, 14, 512)       2359808   \n",
            "                                                                 \n",
            " block5_conv2 (Conv2D)       (None, 14, 14, 512)       2359808   \n",
            "                                                                 \n",
            " block5_conv3 (Conv2D)       (None, 14, 14, 512)       2359808   \n",
            "                                                                 \n",
            " block5_conv4 (Conv2D)       (None, 14, 14, 512)       2359808   \n",
            "                                                                 \n",
            " block5_pool (MaxPooling2D)  (None, 7, 7, 512)         0         \n",
            "                                                                 \n",
            " flatten_2 (Flatten)         (None, 25088)             0         \n",
            "                                                                 \n",
            " dense_4 (Dense)             (None, 1024)              25691136  \n",
            "                                                                 \n",
            " dense_5 (Dense)             (None, 1)                 1025      \n",
            "                                                                 \n",
            "=================================================================\n",
            "Total params: 45,716,545\n",
            "Trainable params: 25,692,161\n",
            "Non-trainable params: 20,024,384\n",
            "_________________________________________________________________\n"
          ]
        }
      ],
      "source": [
        "model = VGG19(include_top=False, weights='imagenet', input_shape=(224, 224, 3))\n",
        "for each_layer in model.layers:\n",
        "    each_layer.trainable = False\n",
        "interaction_output = model.layers[-1].output\n",
        "x = tf.keras.layers.Flatten()(interaction_output)\n",
        "x = tf.keras.layers.Dense(1024, activation=\"relu\")(x)\n",
        "x = tf.keras.layers.Dense(1, activation=\"sigmoid\")(x)\n",
        "model = tf.keras.Model(model.input, x)\n",
        "model.summary()"
      ]
    },
    {
      "cell_type": "code",
      "execution_count": null,
      "metadata": {
        "colab": {
          "background_save": true,
          "base_uri": "https://localhost:8080/"
        },
        "id": "1Ds4Bme-crN5",
        "outputId": "8fb727f7-bfee-4e5e-b4ae-b8ea010f0208"
      },
      "outputs": [
        {
          "name": "stdout",
          "output_type": "stream",
          "text": [
            "Epoch 1/30\n",
            "2/2 [==============================] - ETA: 0s - loss: 0.0000e+00 - accuracy: 1.0000 - auc_2: 0.0000e+00 - precision_1: 0.0000e+00 - recall: 0.0000e+00 WARNING:tensorflow:Can save best model only with val_acc available, skipping.\n",
            "2/2 [==============================] - 56s 12s/step - loss: 0.0000e+00 - accuracy: 1.0000 - auc_2: 0.0000e+00 - precision_1: 0.0000e+00 - recall: 0.0000e+00 - val_loss: 0.0000e+00 - val_accuracy: 1.0000 - val_auc_2: 0.0000e+00 - val_precision_1: 0.0000e+00 - val_recall: 0.0000e+00\n",
            "Epoch 2/30\n",
            "2/2 [==============================] - ETA: 0s - loss: 0.0000e+00 - accuracy: 1.0000 - auc_2: 0.0000e+00 - precision_1: 0.0000e+00 - recall: 0.0000e+00 WARNING:tensorflow:Can save best model only with val_acc available, skipping.\n",
            "2/2 [==============================] - 51s 11s/step - loss: 0.0000e+00 - accuracy: 1.0000 - auc_2: 0.0000e+00 - precision_1: 0.0000e+00 - recall: 0.0000e+00 - val_loss: 0.0000e+00 - val_accuracy: 1.0000 - val_auc_2: 0.0000e+00 - val_precision_1: 0.0000e+00 - val_recall: 0.0000e+00\n",
            "Epoch 3/30\n",
            "2/2 [==============================] - ETA: 0s - loss: 0.0000e+00 - accuracy: 1.0000 - auc_2: 0.0000e+00 - precision_1: 0.0000e+00 - recall: 0.0000e+00 WARNING:tensorflow:Can save best model only with val_acc available, skipping.\n",
            "2/2 [==============================] - 51s 11s/step - loss: 0.0000e+00 - accuracy: 1.0000 - auc_2: 0.0000e+00 - precision_1: 0.0000e+00 - recall: 0.0000e+00 - val_loss: 0.0000e+00 - val_accuracy: 1.0000 - val_auc_2: 0.0000e+00 - val_precision_1: 0.0000e+00 - val_recall: 0.0000e+00\n",
            "Epoch 4/30\n",
            "2/2 [==============================] - ETA: 0s - loss: 0.0000e+00 - accuracy: 1.0000 - auc_2: 0.0000e+00 - precision_1: 0.0000e+00 - recall: 0.0000e+00 WARNING:tensorflow:Can save best model only with val_acc available, skipping.\n",
            "2/2 [==============================] - 51s 11s/step - loss: 0.0000e+00 - accuracy: 1.0000 - auc_2: 0.0000e+00 - precision_1: 0.0000e+00 - recall: 0.0000e+00 - val_loss: 0.0000e+00 - val_accuracy: 1.0000 - val_auc_2: 0.0000e+00 - val_precision_1: 0.0000e+00 - val_recall: 0.0000e+00\n",
            "Epoch 5/30\n",
            "2/2 [==============================] - ETA: 0s - loss: 0.0000e+00 - accuracy: 1.0000 - auc_2: 0.0000e+00 - precision_1: 0.0000e+00 - recall: 0.0000e+00 WARNING:tensorflow:Can save best model only with val_acc available, skipping.\n",
            "2/2 [==============================] - 51s 11s/step - loss: 0.0000e+00 - accuracy: 1.0000 - auc_2: 0.0000e+00 - precision_1: 0.0000e+00 - recall: 0.0000e+00 - val_loss: 0.0000e+00 - val_accuracy: 1.0000 - val_auc_2: 0.0000e+00 - val_precision_1: 0.0000e+00 - val_recall: 0.0000e+00\n",
            "Epoch 6/30\n",
            "2/2 [==============================] - ETA: 0s - loss: 0.0000e+00 - accuracy: 1.0000 - auc_2: 0.0000e+00 - precision_1: 0.0000e+00 - recall: 0.0000e+00 WARNING:tensorflow:Can save best model only with val_acc available, skipping.\n",
            "2/2 [==============================] - 51s 11s/step - loss: 0.0000e+00 - accuracy: 1.0000 - auc_2: 0.0000e+00 - precision_1: 0.0000e+00 - recall: 0.0000e+00 - val_loss: 0.0000e+00 - val_accuracy: 1.0000 - val_auc_2: 0.0000e+00 - val_precision_1: 0.0000e+00 - val_recall: 0.0000e+00\n",
            "Epoch 7/30\n",
            "2/2 [==============================] - ETA: 0s - loss: 0.0000e+00 - accuracy: 1.0000 - auc_2: 0.0000e+00 - precision_1: 0.0000e+00 - recall: 0.0000e+00 WARNING:tensorflow:Can save best model only with val_acc available, skipping.\n",
            "2/2 [==============================] - 51s 11s/step - loss: 0.0000e+00 - accuracy: 1.0000 - auc_2: 0.0000e+00 - precision_1: 0.0000e+00 - recall: 0.0000e+00 - val_loss: 0.0000e+00 - val_accuracy: 1.0000 - val_auc_2: 0.0000e+00 - val_precision_1: 0.0000e+00 - val_recall: 0.0000e+00\n",
            "Epoch 8/30\n",
            "2/2 [==============================] - ETA: 0s - loss: 0.0000e+00 - accuracy: 1.0000 - auc_2: 0.0000e+00 - precision_1: 0.0000e+00 - recall: 0.0000e+00 WARNING:tensorflow:Can save best model only with val_acc available, skipping.\n",
            "2/2 [==============================] - 51s 11s/step - loss: 0.0000e+00 - accuracy: 1.0000 - auc_2: 0.0000e+00 - precision_1: 0.0000e+00 - recall: 0.0000e+00 - val_loss: 0.0000e+00 - val_accuracy: 1.0000 - val_auc_2: 0.0000e+00 - val_precision_1: 0.0000e+00 - val_recall: 0.0000e+00\n",
            "Epoch 9/30\n",
            "2/2 [==============================] - ETA: 0s - loss: 0.0000e+00 - accuracy: 1.0000 - auc_2: 0.0000e+00 - precision_1: 0.0000e+00 - recall: 0.0000e+00 WARNING:tensorflow:Can save best model only with val_acc available, skipping.\n",
            "2/2 [==============================] - 51s 11s/step - loss: 0.0000e+00 - accuracy: 1.0000 - auc_2: 0.0000e+00 - precision_1: 0.0000e+00 - recall: 0.0000e+00 - val_loss: 0.0000e+00 - val_accuracy: 1.0000 - val_auc_2: 0.0000e+00 - val_precision_1: 0.0000e+00 - val_recall: 0.0000e+00\n",
            "Epoch 10/30\n",
            "2/2 [==============================] - ETA: 0s - loss: 0.0000e+00 - accuracy: 1.0000 - auc_2: 0.0000e+00 - precision_1: 0.0000e+00 - recall: 0.0000e+00 WARNING:tensorflow:Can save best model only with val_acc available, skipping.\n",
            "2/2 [==============================] - 51s 11s/step - loss: 0.0000e+00 - accuracy: 1.0000 - auc_2: 0.0000e+00 - precision_1: 0.0000e+00 - recall: 0.0000e+00 - val_loss: 0.0000e+00 - val_accuracy: 1.0000 - val_auc_2: 0.0000e+00 - val_precision_1: 0.0000e+00 - val_recall: 0.0000e+00\n",
            "Epoch 11/30\n",
            "2/2 [==============================] - ETA: 0s - loss: 0.0000e+00 - accuracy: 1.0000 - auc_2: 0.0000e+00 - precision_1: 0.0000e+00 - recall: 0.0000e+00 WARNING:tensorflow:Can save best model only with val_acc available, skipping.\n",
            "2/2 [==============================] - 51s 11s/step - loss: 0.0000e+00 - accuracy: 1.0000 - auc_2: 0.0000e+00 - precision_1: 0.0000e+00 - recall: 0.0000e+00 - val_loss: 0.0000e+00 - val_accuracy: 1.0000 - val_auc_2: 0.0000e+00 - val_precision_1: 0.0000e+00 - val_recall: 0.0000e+00\n",
            "Epoch 12/30\n",
            "2/2 [==============================] - ETA: 0s - loss: 0.0000e+00 - accuracy: 1.0000 - auc_2: 0.0000e+00 - precision_1: 0.0000e+00 - recall: 0.0000e+00 WARNING:tensorflow:Can save best model only with val_acc available, skipping.\n",
            "2/2 [==============================] - 51s 11s/step - loss: 0.0000e+00 - accuracy: 1.0000 - auc_2: 0.0000e+00 - precision_1: 0.0000e+00 - recall: 0.0000e+00 - val_loss: 0.0000e+00 - val_accuracy: 1.0000 - val_auc_2: 0.0000e+00 - val_precision_1: 0.0000e+00 - val_recall: 0.0000e+00\n",
            "Epoch 13/30\n",
            "2/2 [==============================] - ETA: 0s - loss: 0.0000e+00 - accuracy: 1.0000 - auc_2: 0.0000e+00 - precision_1: 0.0000e+00 - recall: 0.0000e+00 WARNING:tensorflow:Can save best model only with val_acc available, skipping.\n",
            "2/2 [==============================] - 51s 11s/step - loss: 0.0000e+00 - accuracy: 1.0000 - auc_2: 0.0000e+00 - precision_1: 0.0000e+00 - recall: 0.0000e+00 - val_loss: 0.0000e+00 - val_accuracy: 1.0000 - val_auc_2: 0.0000e+00 - val_precision_1: 0.0000e+00 - val_recall: 0.0000e+00\n",
            "Epoch 14/30\n",
            "2/2 [==============================] - ETA: 0s - loss: 0.0000e+00 - accuracy: 1.0000 - auc_2: 0.0000e+00 - precision_1: 0.0000e+00 - recall: 0.0000e+00 WARNING:tensorflow:Can save best model only with val_acc available, skipping.\n",
            "2/2 [==============================] - 54s 12s/step - loss: 0.0000e+00 - accuracy: 1.0000 - auc_2: 0.0000e+00 - precision_1: 0.0000e+00 - recall: 0.0000e+00 - val_loss: 0.0000e+00 - val_accuracy: 1.0000 - val_auc_2: 0.0000e+00 - val_precision_1: 0.0000e+00 - val_recall: 0.0000e+00\n",
            "Epoch 15/30\n",
            "2/2 [==============================] - ETA: 0s - loss: 0.0000e+00 - accuracy: 1.0000 - auc_2: 0.0000e+00 - precision_1: 0.0000e+00 - recall: 0.0000e+00 WARNING:tensorflow:Can save best model only with val_acc available, skipping.\n",
            "2/2 [==============================] - 53s 11s/step - loss: 0.0000e+00 - accuracy: 1.0000 - auc_2: 0.0000e+00 - precision_1: 0.0000e+00 - recall: 0.0000e+00 - val_loss: 0.0000e+00 - val_accuracy: 1.0000 - val_auc_2: 0.0000e+00 - val_precision_1: 0.0000e+00 - val_recall: 0.0000e+00\n",
            "Epoch 16/30\n",
            "2/2 [==============================] - ETA: 0s - loss: 0.0000e+00 - accuracy: 1.0000 - auc_2: 0.0000e+00 - precision_1: 0.0000e+00 - recall: 0.0000e+00 WARNING:tensorflow:Can save best model only with val_acc available, skipping.\n",
            "2/2 [==============================] - 51s 11s/step - loss: 0.0000e+00 - accuracy: 1.0000 - auc_2: 0.0000e+00 - precision_1: 0.0000e+00 - recall: 0.0000e+00 - val_loss: 0.0000e+00 - val_accuracy: 1.0000 - val_auc_2: 0.0000e+00 - val_precision_1: 0.0000e+00 - val_recall: 0.0000e+00\n",
            "Epoch 17/30\n",
            "2/2 [==============================] - ETA: 0s - loss: 0.0000e+00 - accuracy: 1.0000 - auc_2: 0.0000e+00 - precision_1: 0.0000e+00 - recall: 0.0000e+00 WARNING:tensorflow:Can save best model only with val_acc available, skipping.\n",
            "2/2 [==============================] - 51s 11s/step - loss: 0.0000e+00 - accuracy: 1.0000 - auc_2: 0.0000e+00 - precision_1: 0.0000e+00 - recall: 0.0000e+00 - val_loss: 0.0000e+00 - val_accuracy: 1.0000 - val_auc_2: 0.0000e+00 - val_precision_1: 0.0000e+00 - val_recall: 0.0000e+00\n",
            "Epoch 18/30\n",
            "2/2 [==============================] - ETA: 0s - loss: 0.0000e+00 - accuracy: 1.0000 - auc_2: 0.0000e+00 - precision_1: 0.0000e+00 - recall: 0.0000e+00 WARNING:tensorflow:Can save best model only with val_acc available, skipping.\n",
            "2/2 [==============================] - 51s 11s/step - loss: 0.0000e+00 - accuracy: 1.0000 - auc_2: 0.0000e+00 - precision_1: 0.0000e+00 - recall: 0.0000e+00 - val_loss: 0.0000e+00 - val_accuracy: 1.0000 - val_auc_2: 0.0000e+00 - val_precision_1: 0.0000e+00 - val_recall: 0.0000e+00\n",
            "Epoch 19/30\n",
            "2/2 [==============================] - ETA: 0s - loss: 0.0000e+00 - accuracy: 1.0000 - auc_2: 0.0000e+00 - precision_1: 0.0000e+00 - recall: 0.0000e+00 WARNING:tensorflow:Can save best model only with val_acc available, skipping.\n",
            "2/2 [==============================] - 51s 11s/step - loss: 0.0000e+00 - accuracy: 1.0000 - auc_2: 0.0000e+00 - precision_1: 0.0000e+00 - recall: 0.0000e+00 - val_loss: 0.0000e+00 - val_accuracy: 1.0000 - val_auc_2: 0.0000e+00 - val_precision_1: 0.0000e+00 - val_recall: 0.0000e+00\n",
            "Epoch 20/30\n",
            "2/2 [==============================] - ETA: 0s - loss: 0.0000e+00 - accuracy: 1.0000 - auc_2: 0.0000e+00 - precision_1: 0.0000e+00 - recall: 0.0000e+00 WARNING:tensorflow:Can save best model only with val_acc available, skipping.\n",
            "2/2 [==============================] - 51s 11s/step - loss: 0.0000e+00 - accuracy: 1.0000 - auc_2: 0.0000e+00 - precision_1: 0.0000e+00 - recall: 0.0000e+00 - val_loss: 0.0000e+00 - val_accuracy: 1.0000 - val_auc_2: 0.0000e+00 - val_precision_1: 0.0000e+00 - val_recall: 0.0000e+00\n",
            "Epoch 21/30\n",
            "2/2 [==============================] - ETA: 0s - loss: 0.0000e+00 - accuracy: 1.0000 - auc_2: 0.0000e+00 - precision_1: 0.0000e+00 - recall: 0.0000e+00 WARNING:tensorflow:Can save best model only with val_acc available, skipping.\n",
            "2/2 [==============================] - 51s 11s/step - loss: 0.0000e+00 - accuracy: 1.0000 - auc_2: 0.0000e+00 - precision_1: 0.0000e+00 - recall: 0.0000e+00 - val_loss: 0.0000e+00 - val_accuracy: 1.0000 - val_auc_2: 0.0000e+00 - val_precision_1: 0.0000e+00 - val_recall: 0.0000e+00\n",
            "Epoch 22/30\n",
            "2/2 [==============================] - ETA: 0s - loss: 0.0000e+00 - accuracy: 1.0000 - auc_2: 0.0000e+00 - precision_1: 0.0000e+00 - recall: 0.0000e+00 WARNING:tensorflow:Can save best model only with val_acc available, skipping.\n",
            "2/2 [==============================] - 51s 11s/step - loss: 0.0000e+00 - accuracy: 1.0000 - auc_2: 0.0000e+00 - precision_1: 0.0000e+00 - recall: 0.0000e+00 - val_loss: 0.0000e+00 - val_accuracy: 1.0000 - val_auc_2: 0.0000e+00 - val_precision_1: 0.0000e+00 - val_recall: 0.0000e+00\n",
            "Epoch 23/30\n",
            "2/2 [==============================] - ETA: 0s - loss: 0.0000e+00 - accuracy: 1.0000 - auc_2: 0.0000e+00 - precision_1: 0.0000e+00 - recall: 0.0000e+00 WARNING:tensorflow:Can save best model only with val_acc available, skipping.\n",
            "2/2 [==============================] - 51s 11s/step - loss: 0.0000e+00 - accuracy: 1.0000 - auc_2: 0.0000e+00 - precision_1: 0.0000e+00 - recall: 0.0000e+00 - val_loss: 0.0000e+00 - val_accuracy: 1.0000 - val_auc_2: 0.0000e+00 - val_precision_1: 0.0000e+00 - val_recall: 0.0000e+00\n",
            "Epoch 24/30\n",
            "2/2 [==============================] - ETA: 0s - loss: 0.0000e+00 - accuracy: 1.0000 - auc_2: 0.0000e+00 - precision_1: 0.0000e+00 - recall: 0.0000e+00 WARNING:tensorflow:Can save best model only with val_acc available, skipping.\n",
            "2/2 [==============================] - 51s 11s/step - loss: 0.0000e+00 - accuracy: 1.0000 - auc_2: 0.0000e+00 - precision_1: 0.0000e+00 - recall: 0.0000e+00 - val_loss: 0.0000e+00 - val_accuracy: 1.0000 - val_auc_2: 0.0000e+00 - val_precision_1: 0.0000e+00 - val_recall: 0.0000e+00\n",
            "Epoch 25/30\n",
            "2/2 [==============================] - ETA: 0s - loss: 0.0000e+00 - accuracy: 1.0000 - auc_2: 0.0000e+00 - precision_1: 0.0000e+00 - recall: 0.0000e+00 WARNING:tensorflow:Can save best model only with val_acc available, skipping.\n",
            "2/2 [==============================] - 51s 11s/step - loss: 0.0000e+00 - accuracy: 1.0000 - auc_2: 0.0000e+00 - precision_1: 0.0000e+00 - recall: 0.0000e+00 - val_loss: 0.0000e+00 - val_accuracy: 1.0000 - val_auc_2: 0.0000e+00 - val_precision_1: 0.0000e+00 - val_recall: 0.0000e+00\n",
            "Epoch 26/30\n",
            "2/2 [==============================] - ETA: 0s - loss: 0.0000e+00 - accuracy: 1.0000 - auc_2: 0.0000e+00 - precision_1: 0.0000e+00 - recall: 0.0000e+00 WARNING:tensorflow:Can save best model only with val_acc available, skipping.\n",
            "2/2 [==============================] - 51s 11s/step - loss: 0.0000e+00 - accuracy: 1.0000 - auc_2: 0.0000e+00 - precision_1: 0.0000e+00 - recall: 0.0000e+00 - val_loss: 0.0000e+00 - val_accuracy: 1.0000 - val_auc_2: 0.0000e+00 - val_precision_1: 0.0000e+00 - val_recall: 0.0000e+00\n",
            "Epoch 27/30\n",
            "2/2 [==============================] - ETA: 0s - loss: 0.0000e+00 - accuracy: 1.0000 - auc_2: 0.0000e+00 - precision_1: 0.0000e+00 - recall: 0.0000e+00 WARNING:tensorflow:Can save best model only with val_acc available, skipping.\n",
            "2/2 [==============================] - 51s 11s/step - loss: 0.0000e+00 - accuracy: 1.0000 - auc_2: 0.0000e+00 - precision_1: 0.0000e+00 - recall: 0.0000e+00 - val_loss: 0.0000e+00 - val_accuracy: 1.0000 - val_auc_2: 0.0000e+00 - val_precision_1: 0.0000e+00 - val_recall: 0.0000e+00\n",
            "Epoch 28/30\n",
            "2/2 [==============================] - ETA: 0s - loss: 0.0000e+00 - accuracy: 1.0000 - auc_2: 0.0000e+00 - precision_1: 0.0000e+00 - recall: 0.0000e+00 WARNING:tensorflow:Can save best model only with val_acc available, skipping.\n",
            "2/2 [==============================] - 51s 11s/step - loss: 0.0000e+00 - accuracy: 1.0000 - auc_2: 0.0000e+00 - precision_1: 0.0000e+00 - recall: 0.0000e+00 - val_loss: 0.0000e+00 - val_accuracy: 1.0000 - val_auc_2: 0.0000e+00 - val_precision_1: 0.0000e+00 - val_recall: 0.0000e+00\n",
            "Epoch 29/30\n",
            "2/2 [==============================] - ETA: 0s - loss: 0.0000e+00 - accuracy: 1.0000 - auc_2: 0.0000e+00 - precision_1: 0.0000e+00 - recall: 0.0000e+00 WARNING:tensorflow:Can save best model only with val_acc available, skipping.\n",
            "2/2 [==============================] - 51s 11s/step - loss: 0.0000e+00 - accuracy: 1.0000 - auc_2: 0.0000e+00 - precision_1: 0.0000e+00 - recall: 0.0000e+00 - val_loss: 0.0000e+00 - val_accuracy: 1.0000 - val_auc_2: 0.0000e+00 - val_precision_1: 0.0000e+00 - val_recall: 0.0000e+00\n",
            "Epoch 30/30\n",
            "2/2 [==============================] - ETA: 0s - loss: 0.0000e+00 - accuracy: 1.0000 - auc_2: 0.0000e+00 - precision_1: 0.0000e+00 - recall: 0.0000e+00 WARNING:tensorflow:Can save best model only with val_acc available, skipping.\n",
            "2/2 [==============================] - 51s 11s/step - loss: 0.0000e+00 - accuracy: 1.0000 - auc_2: 0.0000e+00 - precision_1: 0.0000e+00 - recall: 0.0000e+00 - val_loss: 0.0000e+00 - val_accuracy: 1.0000 - val_auc_2: 0.0000e+00 - val_precision_1: 0.0000e+00 - val_recall: 0.0000e+00\n"
          ]
        }
      ],
      "source": [
        "checkpoint = tf.keras.callbacks.ModelCheckpoint(\"/content/drive/MyDrive/vgg/model.h5\", monitor='val_acc', save_best_only=True, mode='max')\n",
        "model.compile(optimizer=\"adam\", loss=\"binary_crossentropy\", metrics=['accuracy',tf.keras.metrics.AUC(),tf.keras.metrics.Precision(),tf.keras.metrics.Recall()])\n",
        "model.fit(X_train, y_train, epochs=30, validation_data = (X_val, y_val), batch_size = 64, callbacks=[checkpoint])\n",
        "model.save('/content/drive/My Drive/vgg/mainModel.h5' )"
      ]
    },
    {
      "cell_type": "code",
      "execution_count": null,
      "metadata": {
        "colab": {
          "base_uri": "https://localhost:8080/"
        },
        "id": "e9k4ANjc1ilh",
        "outputId": "699a9c81-729d-4aac-c7ee-314e7e1dfe79"
      },
      "outputs": [
        {
          "name": "stdout",
          "output_type": "stream",
          "text": [
            "3/3 [==============================] - 53s 16s/step - loss: 0.0000e+00 - accuracy: 1.0000 - auc_1: 0.0000e+00 - precision: 0.0000e+00\n",
            "0.0\n",
            "100.0\n",
            "0.0\n",
            "0.0\n"
          ]
        }
      ],
      "source": [
        "acc = model.evaluate(X_train, y_train)\n",
        "for i in acc:\n",
        "  print(i*100)\n",
        "#print('Train Accuracy: %.2f' % (acc*100))\n",
        "#acc = model.evaluate(X_test, y_test)\n",
        "#print('Test Accuracy: %.2f' % (acc*100))"
      ]
    },
    {
      "cell_type": "code",
      "execution_count": null,
      "metadata": {
        "id": "w66NQBAYrxV8"
      },
      "outputs": [],
      "source": [
        "model = load_model('/content/drive/MyDrive/vgg/mainModel.h5')"
      ]
    },
    {
      "cell_type": "code",
      "execution_count": null,
      "metadata": {
        "colab": {
          "base_uri": "https://localhost:8080/"
        },
        "id": "GeLLxEAQr6kq",
        "outputId": "1fa08fd4-3711-480d-8a58-a72807f03878"
      },
      "outputs": [
        {
          "name": "stdout",
          "output_type": "stream",
          "text": [
            "twowheeler [0.]\n"
          ]
        }
      ],
      "source": [
        "img= Image.open('/content/drive/MyDrive/ml_dataset/bus_120.jpg').convert('RGB')\n",
        "img = img.resize((224, 224))\n",
        "img= np.array(img) / 255.\n",
        "prediction = model.predict(np.array([img]))[0]\n",
        "answer = prediction\n",
        "answer = 'twowheeler' if answer == 0 else 'fourwheeler'\n",
        "answer += ' ' + str(prediction)\n",
        "print(answer)"
      ]
    }
  ],
  "metadata": {
    "colab": {
      "name": "vgg19.ipynb",
      "provenance": [],
      "authorship_tag": "ABX9TyOO6VR2M3pFiVB+vTfSdLjQ",
      "include_colab_link": true
    },
    "kernelspec": {
      "display_name": "Python 3",
      "name": "python3"
    },
    "language_info": {
      "name": "python"
    }
  },
  "nbformat": 4,
  "nbformat_minor": 0
}